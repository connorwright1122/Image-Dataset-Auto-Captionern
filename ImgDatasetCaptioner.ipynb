{
  "nbformat": 4,
  "nbformat_minor": 0,
  "metadata": {
    "colab": {
      "provenance": []
    },
    "kernelspec": {
      "name": "python3",
      "display_name": "Python 3"
    },
    "language_info": {
      "name": "python"
    }
  },
  "cells": [
    {
      "cell_type": "markdown",
      "source": [
        "First activate local jupyter notebook with 'python -m notebook' in cmd and set Colab to local runtime\n",
        "\n",
        "TODO: requirements.txt file to auto install pip packages, fix my torch version so it runs on gpu"
      ],
      "metadata": {
        "id": "cu2V6sYL15YQ"
      }
    },
    {
      "cell_type": "markdown",
      "source": [
        "USER ACTION: Change path to image folder, style name, and jsonl output file name"
      ],
      "metadata": {
        "id": "jnByouT7tzPq"
      }
    },
    {
      "cell_type": "code",
      "source": [
        "img_folder = r\"C:\\Users\\heygu\\Downloads\\Code\\InvokeAI\\Datasets\\HiRez\\SmiteStyle\\sm1te_styl3_00\"\n",
        "style_name = \"sm1te_styl3_00\"\n",
        "jsonl_file_path = os.path.join(img_folder, \"captions.jsonl\")"
      ],
      "metadata": {
        "id": "jDcx6qnetqIx"
      },
      "execution_count": 22,
      "outputs": []
    },
    {
      "cell_type": "code",
      "execution_count": 1,
      "metadata": {
        "colab": {
          "base_uri": "https://localhost:8080/"
        },
        "id": "RoVpmGs4LQJm",
        "outputId": "7ae30164-a6c4-4439-92c7-f598e208e697"
      },
      "outputs": [
        {
          "output_type": "stream",
          "name": "stderr",
          "text": [
            "C:\\Users\\heygu\\AppData\\Local\\Programs\\Python\\Python311\\Lib\\site-packages\\tqdm\\auto.py:21: TqdmWarning: IProgress not found. Please update jupyter and ipywidgets. See https://ipywidgets.readthedocs.io/en/stable/user_install.html\n",
            "  from .autonotebook import tqdm as notebook_tqdm\n"
          ]
        }
      ],
      "source": [
        "import requests\n",
        "from PIL import Image\n",
        "from transformers import BlipProcessor, BlipForConditionalGeneration"
      ]
    },
    {
      "cell_type": "code",
      "source": [
        "import os\n",
        "import json"
      ],
      "metadata": {
        "id": "znXNlIfMtiPC"
      },
      "execution_count": 11,
      "outputs": []
    },
    {
      "cell_type": "code",
      "source": [
        "processor = BlipProcessor.from_pretrained(\"Salesforce/blip-image-captioning-large\")\n",
        "model = BlipForConditionalGeneration.from_pretrained(\"Salesforce/blip-image-captioning-large\")"
      ],
      "metadata": {
        "id": "xQYSqg8nMFmA"
      },
      "execution_count": 19,
      "outputs": []
    },
    {
      "cell_type": "code",
      "source": [
        "text = \"a picture of\"\n",
        "\n",
        "with open(jsonl_file_path, 'a') as jsonl_file:\n",
        "  for img in os.listdir(img_folder):\n",
        "    if img.lower().endswith('.png' or '.jpg'):\n",
        "      img_path = os.path.join(img_folder, img)\n",
        "      raw_image = Image.open(img_path).convert('RGB')\n",
        "\n",
        "      inputs = processor(raw_image, text, return_tensors=\"pt\")\n",
        "      out = model.generate(**inputs)\n",
        "\n",
        "      caption = processor.decode(out[0], skip_special_tokens=True)\n",
        "      caption = caption + \" in the style of \" + style_name\n",
        "\n",
        "      data = {\"image\": img_path, \"text\": caption}\n",
        "\n",
        "      jsonl_file.write(json.dumps(data) + '\\n')\n",
        "\n",
        "print(f\"Captions applied to {jsonl_file_path}\")"
      ],
      "metadata": {
        "colab": {
          "base_uri": "https://localhost:8080/"
        },
        "id": "5b6RKOi2uWew",
        "outputId": "24dd57eb-fab9-4912-fb5d-caf9395640c1"
      },
      "execution_count": 23,
      "outputs": [
        {
          "output_type": "stream",
          "name": "stdout",
          "text": [
            "Captions applied to C:\\Users\\heygu\\Downloads\\Code\\InvokeAI\\Datasets\\HiRez\\SmiteStyle\\sm1te_styl3_00\\captions.jsonl\n"
          ]
        }
      ]
    }
  ]
}